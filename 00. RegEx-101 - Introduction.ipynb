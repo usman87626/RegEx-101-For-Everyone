{
 "cells": [
  {
   "cell_type": "markdown",
   "id": "8c9b0a43",
   "metadata": {},
   "source": [
    "## Introduction to Regular Expressions\n",
    "<hr>\n",
    "\n",
    "### Regular Expressions / RegEx\n",
    "\n",
    "- Regular expressions are the tools for:\n",
    "    - Searching & matching the parts of a text by: \n",
    "        - describing the patterns that should be used to identify those patterns.\n",
    "\n",
    "- Set of symbols representing a text pattern.\n",
    "- Not a programming language\n",
    "- Used to search, match & replace text.\n",
    "- Regular expressions are called RegEx for short.\n",
    "\n",
    "\n",
    "### Usage\n",
    "- Check if credit card number has correct number of digits.\n",
    "- Test if email address is in valid format.\n",
    "- Search a big document for something specific.\n",
    "- Replace all occurences of an element in a document\n",
    "- Count how many times,  the word `training` is preceeded by the word `computer` or `language`\n",
    "\n",
    "### RegEx Engine\n",
    "- C/C++\n",
    "- Java\n",
    "- JavaScript\n",
    "- PHP\n",
    "- Python\n",
    "- Ruby\n",
    "- Unix\n",
    "- MySQL\n",
    "\n",
    "- We will use Python Engine using a module named `re` in Python.\n",
    "- You can practice online by clicking => [RegEx101](https://regex101.com/)\n",
    "\n",
    "\n",
    "### RegEx Functions in Python\n",
    "- findall => Returns a list containing all matches\n",
    "- search => Returns a Match object if there is a match anywhere in the string\n",
    "- split => Returns a list where the string has been split at each match\n",
    "- sub => Replaces one or many matches with a string"
   ]
  },
  {
   "cell_type": "code",
   "execution_count": null,
   "id": "dd4a2666",
   "metadata": {},
   "outputs": [],
   "source": []
  }
 ],
 "metadata": {
  "kernelspec": {
   "display_name": "Python 3",
   "language": "python",
   "name": "python3"
  },
  "language_info": {
   "codemirror_mode": {
    "name": "ipython",
    "version": 3
   },
   "file_extension": ".py",
   "mimetype": "text/x-python",
   "name": "python",
   "nbconvert_exporter": "python",
   "pygments_lexer": "ipython3",
   "version": "3.8.8"
  }
 },
 "nbformat": 4,
 "nbformat_minor": 5
}
