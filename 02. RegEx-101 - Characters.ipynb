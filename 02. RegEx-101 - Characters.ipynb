{
 "cells": [
  {
   "cell_type": "markdown",
   "id": "f75c6076",
   "metadata": {},
   "source": [
    "## 2. Meta Characters\n",
    "\n",
    "- Characters with special meaning\n",
    "- Transform literal characters into powerful expressions.\n",
    "- There are only few metaCharacters to learn: `\\ . * + - {} [] ^ $ | ? () : ! =`\n",
    "- Can have more than one meaning, we need to know context to know about them\n",
    "- Let's learn some:\n",
    "\n",
    "<hr>\n",
    "\n",
    "### i) The WildCard MetaCharacter\n",
    "- `.` is wild card metacharacer which matches everything except whitespaces\n",
    "- You can match whitespace character as well using the `.` but you have to change the set of flag as `flag=re.DOTALL`"
   ]
  },
  {
   "cell_type": "code",
   "execution_count": 3,
   "id": "c0afc0f1",
   "metadata": {},
   "outputs": [],
   "source": [
    "## IMPORT MODULE\n",
    "import re"
   ]
  },
  {
   "cell_type": "code",
   "execution_count": 10,
   "id": "f77077cb",
   "metadata": {},
   "outputs": [],
   "source": [
    "## LET's use re.findall()\n",
    "myText = \"9.0 940 930 9 0 900\""
   ]
  },
  {
   "cell_type": "markdown",
   "id": "9ab838ed",
   "metadata": {},
   "source": [
    "#### THE MOST COMMON MISTAKE\n",
    "- Using the pattern `9.0` will pick out ['9.0', '940', '930', '9 0', '900']\n",
    "- We were expecting to get `9.0` but `.` matches every character except newline or `\\n`\n",
    "- To pick `9.0` as result we will use escaping metacharacters in next snippet "
   ]
  },
  {
   "cell_type": "code",
   "execution_count": 22,
   "id": "00620923",
   "metadata": {},
   "outputs": [
    {
     "name": "stdout",
     "output_type": "stream",
     "text": [
      "['9.0', '940', '930', '9 0', '900']\n"
     ]
    }
   ],
   "source": [
    "matched = re.findall(r\"9.0\",myText)\n",
    "print(matched)"
   ]
  },
  {
   "cell_type": "code",
   "execution_count": 20,
   "id": "f7b531e5",
   "metadata": {},
   "outputs": [
    {
     "name": "stdout",
     "output_type": "stream",
     "text": [
      "Original String: 9.0 940 930 9 0 900\n",
      "Matched: 9.0\n",
      "Position: (0, 3)\n"
     ]
    }
   ],
   "source": [
    "## PICK FIRST OCCURENCE\n",
    "matched = re.search(r\"9.0\",myText)\n",
    "if matched:\n",
    "    print(f\"Original String: {matched.string}\")\n",
    "    print(f\"Matched: {matched.group()}\")\n",
    "    print(f\"Position: {matched.span()}\")\n",
    "else:\n",
    "    print(\"No match found\")"
   ]
  },
  {
   "cell_type": "markdown",
   "id": "5b17126f",
   "metadata": {},
   "source": [
    "### ii) Escaping MetaCharacters\n",
    "- These metacharacters usually starts with `\\`\n",
    "- Let's learn it with examples"
   ]
  },
  {
   "cell_type": "code",
   "execution_count": null,
   "id": "f31e0ad4",
   "metadata": {},
   "outputs": [],
   "source": [
    "text1 = \"9.0 940 930 9 0 900 9.0\"\n",
    "\n",
    "## LETS MATCH ALL OCCURENCES OF 9.0\n",
    "\n",
    "matched = re.findall(\"9\\.0\",text1)\n",
    "print(matched)"
   ]
  },
  {
   "cell_type": "code",
   "execution_count": 31,
   "id": "02359706",
   "metadata": {},
   "outputs": [
    {
     "name": "stdout",
     "output_type": "stream",
     "text": [
      "['resume1.txt', 'resume2.txt', 'resume3_txt']\n"
     ]
    }
   ],
   "source": [
    "text2 = \"resume1.txt resume2.txt resume3_txt.zip\"\n",
    "\n",
    "## LETS MATCH  resume1.txt resume2.txt\n",
    "matched = re.findall(\"resume..txt\",text2)\n",
    "## BUT IT GIVES ALL THE ELEMENTS, EVEN THE ONE that ends with .zip\n",
    "print(matched)"
   ]
  },
  {
   "cell_type": "code",
   "execution_count": 32,
   "id": "4706b459",
   "metadata": {},
   "outputs": [
    {
     "name": "stdout",
     "output_type": "stream",
     "text": [
      "['resume1.txt', 'resume2.txt']\n"
     ]
    }
   ],
   "source": [
    "## LETS RESOLVE IT: MATCH  resume1.txt resume2.txt\n",
    "matched = re.findall(\"resume.\\.txt\",text2)\n",
    "## BUT IT GIVES ALL THE ELEMENTS, EVEN THE ONE that ends with .zip\n",
    "print(matched)"
   ]
  },
  {
   "cell_type": "markdown",
   "id": "dad2523c",
   "metadata": {},
   "source": [
    "### iii) Other Special Characters\n",
    "- Spaces => `' '`\n",
    "- Tabs => `\\t`\n",
    "- Line Returns => `\\r, \\n, \\r\\n`"
   ]
  },
  {
   "cell_type": "code",
   "execution_count": 67,
   "id": "1049ade5",
   "metadata": {},
   "outputs": [
    {
     "data": {
      "text/plain": [
       "['column1\\ncolumn2']"
      ]
     },
     "execution_count": 67,
     "metadata": {},
     "output_type": "execute_result"
    }
   ],
   "source": [
    "text2 = \"\"\"column1\n",
    "column2\"\"\"\n",
    "\n",
    "re.findall(\"column1\\ncolumn2\",text2)"
   ]
  },
  {
   "cell_type": "code",
   "execution_count": 69,
   "id": "47cf4c5d",
   "metadata": {},
   "outputs": [
    {
     "data": {
      "text/plain": [
       "['please', 'palace', 'parade']"
      ]
     },
     "execution_count": 69,
     "metadata": {},
     "output_type": "execute_result"
    }
   ],
   "source": [
    "text3 = \"please palace parade\"\n",
    "\n",
    "## LETS MATCH ALL USING EVERYTHInG WE LEARNED\n",
    "re.findall(\"p..a.e\",text3)"
   ]
  }
 ],
 "metadata": {
  "kernelspec": {
   "display_name": "Python 3",
   "language": "python",
   "name": "python3"
  },
  "language_info": {
   "codemirror_mode": {
    "name": "ipython",
    "version": 3
   },
   "file_extension": ".py",
   "mimetype": "text/x-python",
   "name": "python",
   "nbconvert_exporter": "python",
   "pygments_lexer": "ipython3",
   "version": "3.8.8"
  }
 },
 "nbformat": 4,
 "nbformat_minor": 5
}
