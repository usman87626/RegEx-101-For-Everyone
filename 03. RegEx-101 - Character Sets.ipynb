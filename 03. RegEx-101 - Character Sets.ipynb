{
 "cells": [
  {
   "cell_type": "code",
   "execution_count": 2,
   "id": "9644b8c6",
   "metadata": {},
   "outputs": [],
   "source": [
    "## IMPORT THE re Module\n",
    "import re"
   ]
  },
  {
   "cell_type": "markdown",
   "id": "8946db77",
   "metadata": {},
   "source": [
    "## 3. Character Sets\n",
    "\n",
    "### Some more metaCharacters:\n",
    "- `[` => Begin a character set\n",
    "- `]` => End a character set\n",
    "\n",
    "- A `character set` will match any one of several characters(in our set)\n",
    "- Match only one character, below examples will help to understand it\n",
    "- Order of characters doesn't matter\n",
    "- `[aeiou]` matches any one vowel\n",
    "- `gr[ea]y` matches `grey` and `gray`\n",
    "- `gr[ea]t` doesn't match `great`"
   ]
  },
  {
   "cell_type": "code",
   "execution_count": 3,
   "id": "1df258d8",
   "metadata": {},
   "outputs": [
    {
     "name": "stdout",
     "output_type": "stream",
     "text": [
      "['gret', 'grat']\n"
     ]
    }
   ],
   "source": [
    "text1 = \"great gret grat\"\n",
    "\n",
    "matches = re.findall(r\"gr[ea]t\",text1)\n",
    "\n",
    "## AS [] contains a & e which means that it can match gr(e)t or gr(a)t, not both at the same time\n",
    "print(matches)"
   ]
  },
  {
   "cell_type": "code",
   "execution_count": 7,
   "id": "1092b79d",
   "metadata": {},
   "outputs": [
    {
     "name": "stdout",
     "output_type": "stream",
     "text": [
      "['NOTICE!', 'NOTICE:', 'NOTICE=']\n"
     ]
    }
   ],
   "source": [
    "text2 = \"\"\"\n",
    "NOTICE! YOUR ACCOUNT IS GONE\n",
    "NOTICE: NO WORRIES\n",
    "NOTICE= ACCOUNT RECOVERED\n",
    "\"\"\"\n",
    "\n",
    "## AFTER NOTICE, it can either be ! or : or = , so we can use [!:=] to cover all these\n",
    "matched = re.findall(\"NOTICE[!:=]\",text2)\n",
    "print(matched)"
   ]
  },
  {
   "cell_type": "markdown",
   "id": "d021f71e",
   "metadata": {},
   "source": [
    "### Character Ranges\n",
    "- Helpful to manipulate character sets\n",
    "- Character set to match numbers => `[0123456789]`\n",
    "- Character set to match alphabets => `[abcdefghijklmnopqrstuvwxyz]` or `[ABCDEFGHIJKLMNOPQRSTUVWXYZ]`\n",
    "\n",
    "<hr>\n",
    "\n",
    "- We can get rid of this pain by using metaCharacter `-` as:\n",
    "    - Chracter set to match numbers: `[0-9]`\n",
    "    - Character set to match alphabets: `[A-Za-z]`\n",
    "    - Character set to match numbers & alphabets: `[0-9a-zA-Z]`\n",
    "<hr>\n",
    "\n",
    "### Caution\n",
    "- `[50-99]` is not all numbers from 50 to 99\n",
    "- Character ranges/sets as the name suggest only works on single character like `a` `b` `0` `9` etc, not on `50` or `99`"
   ]
  },
  {
   "cell_type": "code",
   "execution_count": 12,
   "id": "ba652633",
   "metadata": {},
   "outputs": [
    {
     "name": "stdout",
     "output_type": "stream",
     "text": [
      "['u', 'i', 'c', 'k', 'r', 'o', 'w', 'n', 'f', 'o', 'x', 'j', 'u', 'm', 'p', 's', 'o', 'v', 'e', 'r', 't', 'h', 'e', 'l', 'a', 'z', 'y', 'd', 'o', 'g']\n"
     ]
    }
   ],
   "source": [
    "string1 = \"A Quick Brown fox jumps over the lazy dog\"\n",
    "\n",
    "result = re.findall(r\"[a-z]\",string1)\n",
    "print(result)"
   ]
  },
  {
   "cell_type": "code",
   "execution_count": 13,
   "id": "32f66ed2",
   "metadata": {},
   "outputs": [
    {
     "name": "stdout",
     "output_type": "stream",
     "text": [
      "['A', 'Q', 'u', 'i', 'c', 'k', 'B', 'r', 'o', 'w', 'n', 'f', 'o', 'x', 'j', 'u', 'm', 'p', 's', 'o', 'v', 'e', 'r', 't', 'h', 'e', 'l', 'a', 'z', 'y', 'd', 'o', 'g']\n"
     ]
    }
   ],
   "source": [
    "## TO MATCH CAPITAL CHARACTERS AS WELL\n",
    "result = re.findall(r\"[a-zA-Z]\",string1)\n",
    "print(result)"
   ]
  },
  {
   "cell_type": "code",
   "execution_count": 14,
   "id": "c099ba11",
   "metadata": {},
   "outputs": [
    {
     "name": "stdout",
     "output_type": "stream",
     "text": [
      "['0', '3', '2', '2', '3', '4', '4', '3', '2', '4']\n"
     ]
    }
   ],
   "source": [
    "string2 = \"032-234-4324\"\n",
    "\n",
    "## MATCHES EVERY DIGIT INDIViDUALLY\n",
    "results = re.findall(r\"[0-9]\",string2)\n",
    "print(results)"
   ]
  },
  {
   "cell_type": "code",
   "execution_count": 16,
   "id": "9f2db152",
   "metadata": {},
   "outputs": [
    {
     "name": "stdout",
     "output_type": "stream",
     "text": [
      "['032-234-4324']\n"
     ]
    }
   ],
   "source": [
    "## LETS GET THE WHOLE NUMBER\n",
    "\n",
    "number = re.findall(r\"[0-9][0-9][0-9]-[0-9][0-9][0-9]-[0-9][0-9][0-9][0-9]\",string2)\n",
    "print(number)"
   ]
  },
  {
   "cell_type": "markdown",
   "id": "165e224d",
   "metadata": {},
   "source": [
    "### Negative Character Sets\n",
    "- Negates the character set\n",
    "- `^` is used as negative character set\n",
    "- Character set to match numbers => `[0-9]`\n",
    "- Character set to match everything except numbers => `[^0-9]`\n",
    "- Used to exclude characters\n",
    "\n",
    "<hr>\n",
    "\n",
    "### Caution\n",
    "- `see[^mn]` will not match `see` but will match `see ` and `see.`"
   ]
  },
  {
   "cell_type": "code",
   "execution_count": 4,
   "id": "e34f34b1",
   "metadata": {},
   "outputs": [
    {
     "name": "stdout",
     "output_type": "stream",
     "text": [
      "['T', 'h', 'e', 'r', 'e', ' ', 'w', 'e', 'r', 'e', ' ', ' ', 'p', 'e', 'o', 'p', 'l', 'e', ' ', 'i', 'n', ' ', 't', 'h', 'e', ' ', 'b', 'u', 's', ' ', 'a', 'n', 'd', ' ', ' ', 'o', 'u', 't', 's', 'i', 'd', 'e', ' ', 'b', 'u', 's']\n"
     ]
    }
   ],
   "source": [
    "text4 = \"There were 20 people in the bus and 10 outside bus\"\n",
    "\n",
    "## LETS EXTRACT TEXT ONLY\n",
    "\n",
    "textOnly = re.findall(r\"[^0-9]\",text4)\n",
    "print(textOnly)"
   ]
  },
  {
   "cell_type": "markdown",
   "id": "c5bfaa05",
   "metadata": {},
   "source": [
    "### MetaCharacters inside Character sets\n",
    "- Most metaCharacters inside characters sets are already escaped ( No need to escape `\\` again)\n",
    "- Exceptions: `], \\, ^`\n",
    "- `h[a.]t` matches `hat` & `h.t` but not `hot`"
   ]
  },
  {
   "cell_type": "code",
   "execution_count": 10,
   "id": "ff75f44f",
   "metadata": {},
   "outputs": [
    {
     "data": {
      "text/plain": [
       "['file01', 'file-1', 'file_1']"
      ]
     },
     "execution_count": 10,
     "metadata": {},
     "output_type": "execute_result"
    }
   ],
   "source": [
    "text6 = \"file01 file-1 file\\1 file_1\"\n",
    "\n",
    "re.findall(r\"file[0\\-_]1\",text6)"
   ]
  },
  {
   "cell_type": "code",
   "execution_count": 23,
   "id": "7d17ff3a",
   "metadata": {},
   "outputs": [
    {
     "name": "stdout",
     "output_type": "stream",
     "text": [
      "['var(3)', 'var[4]']\n"
     ]
    }
   ],
   "source": [
    "text7 = \"var(3) var[4]\"\n",
    "\n",
    "result7 = re.findall(r\"var[([][0-9][\\])]\",text7)\n",
    "print(result7)"
   ]
  },
  {
   "cell_type": "markdown",
   "id": "c84d6caa",
   "metadata": {},
   "source": [
    "### Shorthand Character sets\n",
    "- Most regular expression engines allows us to use shorthand character sets.\n",
    "- Examples:\n",
    "    - `\\d` => Digits. Equivalent to [0-9]\n",
    "    - `\\s` => Whitespace. Equivalent to `[\\t\\r\\n]`\n",
    "    - `\\w` => Word Character. Equivalent to `[a-zA-z0-9_]`\n",
    "    - `\\W` => Negation of Word Character. Equivalent to `[^a-zA-z0-9_]`\n",
    "    - `\\D` => Negation of Digits. Equivalent to [^0-9]\n",
    "    - `\\S` => Negation of Whitespace. Equivalent to `[^\\t\\r\\n]`\n",
    "\n",
    "\n",
    "- `\\d\\d\\d\\d` matches `1984`, `2020` & any 4 digit number but not `text`\n",
    "- `\\w\\w\\w` matches `123`, `abc` or `a_D`\n",
    "- `\\w\\s\\w\\w` matches `I am`, but not `Am I`\n",
    "- `[\\w\\-]` matches any word character or hyphen.\n",
    "\n",
    "### Caution\n",
    "- Word character may not exact refers to something that you think.\n",
    "    - For example `\\w` refers to `[0-9a-zA-Z_]`\n",
    "    - In general, we don't consider `_` as alphabets/numbers.\n",
    "    - But, as programmers use it frequently in variable names, it's included here\n",
    "    - Similarly, `-` is not included in `\\w`\n",
    "\n",
    "- `[^\\d\\s]` and `[\\D\\S]` are not the same.\n",
    "- `[^\\d\\s]` => Not digit or space character\n",
    "- `[\\D\\S]` => Either NOT digit or NOT space character"
   ]
  },
  {
   "cell_type": "code",
   "execution_count": 24,
   "id": "ffb342b5",
   "metadata": {},
   "outputs": [
    {
     "name": "stdout",
     "output_type": "stream",
     "text": [
      "['1984']\n"
     ]
    }
   ],
   "source": [
    "myText = \"1984 text is not 123-345 \"\n",
    "\n",
    "results = re.findall(r\"\\d\\d\\d\\d\",myText)\n",
    "print(results)"
   ]
  },
  {
   "cell_type": "code",
   "execution_count": 26,
   "id": "167dd9a6",
   "metadata": {},
   "outputs": [
    {
     "name": "stdout",
     "output_type": "stream",
     "text": [
      "['1984 te']\n"
     ]
    }
   ],
   "source": [
    "results = re.findall(r\"\\w\\w\\w\\w\\s\\w\\w\",myText)\n",
    "print(results)"
   ]
  },
  {
   "cell_type": "code",
   "execution_count": 34,
   "id": "f410fff2",
   "metadata": {},
   "outputs": [
    {
     "name": "stdout",
     "output_type": "stream",
     "text": [
      "[' ', 't', 'e', 'x', 't', ' ', '-', ' ']\n"
     ]
    }
   ],
   "source": [
    "results = re.findall(r\"\\D\",myText)\n",
    "print(results)"
   ]
  },
  {
   "cell_type": "code",
   "execution_count": 39,
   "id": "45537f2a",
   "metadata": {},
   "outputs": [
    {
     "name": "stdout",
     "output_type": "stream",
     "text": [
      "['1', '2', '3', '4', '-', '5', '6', '7', '8', '-', 'a', 'b', 'c', 'd']\n"
     ]
    }
   ],
   "source": [
    "finalText = \"1234-5678-abcd\"\n",
    "\n",
    "pattern = re.findall(r\"[\\w\\-]\",finalText)\n",
    "print(pattern)"
   ]
  },
  {
   "cell_type": "code",
   "execution_count": 41,
   "id": "2013858b",
   "metadata": {},
   "outputs": [
    {
     "name": "stdout",
     "output_type": "stream",
     "text": [
      "['-', '-', 'a', 'b', 'c', 'd']\n"
     ]
    }
   ],
   "source": [
    "pattern = re.findall(r\"[^\\d\\s]\",finalText)\n",
    "print(pattern)"
   ]
  },
  {
   "cell_type": "code",
   "execution_count": 42,
   "id": "681bd188",
   "metadata": {},
   "outputs": [
    {
     "name": "stdout",
     "output_type": "stream",
     "text": [
      "['1', '2', '3', '4', '-', '5', '6', '7', '8', '-', 'a', 'b', 'c', 'd']\n"
     ]
    }
   ],
   "source": [
    "pattern = re.findall(r\"[\\D\\S]\",finalText)\n",
    "print(pattern)"
   ]
  },
  {
   "cell_type": "markdown",
   "id": "ba083f0c",
   "metadata": {},
   "source": [
    "### Problem\n",
    "\n",
    "- We are repeating same thing again & again to get a match i.e., `\\d\\d\\d\\d\\d\\d\\d\\d\\d\\d\\d` to match a number having 11 digits.\n",
    "- We will use repetitions in next notebook to solve this problem."
   ]
  }
 ],
 "metadata": {
  "kernelspec": {
   "display_name": "Python 3",
   "language": "python",
   "name": "python3"
  },
  "language_info": {
   "codemirror_mode": {
    "name": "ipython",
    "version": 3
   },
   "file_extension": ".py",
   "mimetype": "text/x-python",
   "name": "python",
   "nbconvert_exporter": "python",
   "pygments_lexer": "ipython3",
   "version": "3.8.8"
  }
 },
 "nbformat": 4,
 "nbformat_minor": 5
}
