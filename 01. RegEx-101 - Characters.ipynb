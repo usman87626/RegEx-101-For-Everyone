{
 "cells": [
  {
   "cell_type": "markdown",
   "id": "5293b1c1",
   "metadata": {},
   "source": [
    "## 1. Literal Characters\n",
    "\n",
    "- You can enter any character between `r\"CHARACTER-HERE\"` to match them\n",
    "- For example: search/replace `cat` from a string `This is not your cat, its my cat`"
   ]
  },
  {
   "cell_type": "code",
   "execution_count": 1,
   "id": "818c83c5",
   "metadata": {},
   "outputs": [],
   "source": [
    "## Import Python RegEx Library\n",
    "import re"
   ]
  },
  {
   "cell_type": "code",
   "execution_count": 2,
   "id": "bf6c7f28",
   "metadata": {},
   "outputs": [],
   "source": [
    "## TEST TEXT\n",
    "myText = \"This is not your cat, its my cat\"\n",
    "text2 = 'Carnival'"
   ]
  },
  {
   "cell_type": "markdown",
   "id": "257cc7ad",
   "metadata": {},
   "source": [
    "### Find single occurence\n",
    "\n",
    "- `re.search(pattern, string_to_search, flags)`\n",
    "- flags:\n",
    "    - `re.A` or `re.ASCII`      - Perform ASCII-only matching instead of full Unicode matching\n",
    "    - `re.I` or `re.IGNORECASE` - Perform case-insensitive matching\n",
    "    - Find more here: [Python Regex Flags](https://pynative.com/python-regex-flags/)"
   ]
  },
  {
   "cell_type": "code",
   "execution_count": 30,
   "id": "8e0beddd",
   "metadata": {},
   "outputs": [
    {
     "name": "stdout",
     "output_type": "stream",
     "text": [
      "Original String: This is not your cat, its my cat\n",
      "Matched String: cat\n",
      "Matched at Position: (17, 20)\n"
     ]
    }
   ],
   "source": [
    "## To find a single occurence of the word `cat`\n",
    "## By default, search() is case-sensitive\n",
    "## Use flags=re.I to make it case-insensitive\n",
    "result = re.search(r\"cat\",myText,flags=0)\n",
    "## If there is a matching\n",
    "if result:\n",
    "    ## Print the matched string\n",
    "    print(f\"Original String: {result.string}\")\n",
    "    print(f\"Matched String: {result.group()}\")\n",
    "    print(f\"Matched at Position: {result.span()}\")\n",
    "else:\n",
    "    print(\"No Match Found\")"
   ]
  },
  {
   "cell_type": "markdown",
   "id": "54bc226f",
   "metadata": {},
   "source": [
    "### Finding all occurences\n",
    "\n",
    "- `re.findall(pattern, string, flags=0)`\n",
    "- flags:\n",
    "    - `re.A` or `re.ASCII`      - Perform ASCII-only matching instead of full Unicode matching\n",
    "    - `re.I` or `re.IGNORECASE` - Perform case-insensitive matching\n",
    "    - Find more here: [Python Regex Flags](https://pynative.com/python-regex-flags/)"
   ]
  },
  {
   "cell_type": "code",
   "execution_count": 33,
   "id": "4a2e6feb",
   "metadata": {},
   "outputs": [
    {
     "name": "stdout",
     "output_type": "stream",
     "text": [
      "['cat', 'cat']\n"
     ]
    }
   ],
   "source": [
    "## TO FIND ALL OCCURENCES OF THE WORD `cat`\n",
    "all_occurences = re.findall(r'cat',myText)\n",
    "\n",
    "if all_occurences:\n",
    "    print(all_occurences)\n",
    "else:\n",
    "    print(\"No Match Found\")"
   ]
  },
  {
   "cell_type": "code",
   "execution_count": 35,
   "id": "77170090",
   "metadata": {},
   "outputs": [
    {
     "name": "stdout",
     "output_type": "stream",
     "text": [
      "['cat', 'cat']\n"
     ]
    }
   ],
   "source": [
    "## TO FIND ALL OCCURENCES OF THE WORD `cat` WITH flags=re.I\n",
    "all_occurences = re.findall(r'cAT',myText,flags=re.I)\n",
    "\n",
    "if all_occurences:\n",
    "    print(all_occurences)\n",
    "else:\n",
    "    print(\"No Match Found\")"
   ]
  },
  {
   "cell_type": "markdown",
   "id": "1c948ed7",
   "metadata": {},
   "source": [
    "### Split by \n",
    "- `re.split(PATTERN, STRING, maxsplit, flags)`\n",
    "<hr>\n",
    "- flags:\n",
    "    - `re.A` or `re.ASCII`      - Perform ASCII-only matching instead of full Unicode matching\n",
    "    - `re.I` or `re.IGNORECASE` - Perform case-insensitive matching\n",
    "    - Find more here: [Python Regex Flags](https://pynative.com/python-regex-flags/)\n",
    "<hr>\n",
    "- `maxsplit` - The number of splits you wanted to perform. If maxsplit is 2, at most two splits occur, and the remainder of the string is returned as the final element of the list."
   ]
  },
  {
   "cell_type": "code",
   "execution_count": 50,
   "id": "330d49cd",
   "metadata": {},
   "outputs": [
    {
     "name": "stdout",
     "output_type": "stream",
     "text": [
      "['This is not your ', ', its my cat']\n"
     ]
    }
   ],
   "source": [
    "## SPLIT By `cat` will split the string where `cat` is found\n",
    "## maxsplit=1 means to split string when first occurence is found, leave the second occurence\n",
    "splitted = re.split(r'cat',myText,maxsplit=1,flags=0)\n",
    "\n",
    "print(splitted)"
   ]
  },
  {
   "cell_type": "code",
   "execution_count": 51,
   "id": "09d1fc91",
   "metadata": {},
   "outputs": [
    {
     "name": "stdout",
     "output_type": "stream",
     "text": [
      "['This is not your ', ', its my ', '']\n"
     ]
    }
   ],
   "source": [
    "## SPLIT By `cat` will split the string where `cat` is found\n",
    "## maxsplit=2 means to split string when two occurences are found, leave the third matching\n",
    "splitted = re.split(r'cat',myText,maxsplit=2,flags=0)\n",
    "\n",
    "print(splitted)"
   ]
  },
  {
   "cell_type": "markdown",
   "id": "2c1f70ff",
   "metadata": {},
   "source": [
    "### Match & Replace\n",
    "\n",
    "- `re.sub(pattern, replacement, string, count, flags)`\n",
    "<hr>\n",
    "- `pattern` - The regular expression pattern to find inside the target string.\n",
    "- `replacement` - The replacement that we are going to insert for each occurrence of a pattern. The replacement can be a string or function\n",
    "- `string` - The variable pointing to the target string (In which we want to perform the replacement).\n",
    "- `count` - Maximum number of pattern occurrences to be replaced. The count must always be a positive integer if specified.By default, the count is set to zero, which means the re.sub() method will replace all pattern occurrences in the target string.\n",
    "- `flags`\n",
    "    - `re.A` or `re.ASCII`      - Perform ASCII-only matching instead of full Unicode matching\n",
    "    - `re.I` or `re.IGNORECASE` - Perform case-insensitive matching\n",
    "    - Find more here: [Python Regex Flags](https://pynative.com/python-regex-flags/)"
   ]
  },
  {
   "cell_type": "code",
   "execution_count": 52,
   "id": "ac60de53",
   "metadata": {},
   "outputs": [
    {
     "name": "stdout",
     "output_type": "stream",
     "text": [
      "This is not your modifiedCat, its my modifiedCat\n"
     ]
    }
   ],
   "source": [
    "## MATCH & REPLACE every `cat` with `modifiedCat` in Variable myText \n",
    "modified = re.sub(r'cat','modifiedCat',myText)\n",
    "print(modified)"
   ]
  },
  {
   "cell_type": "code",
   "execution_count": 54,
   "id": "f306f615",
   "metadata": {},
   "outputs": [
    {
     "name": "stdout",
     "output_type": "stream",
     "text": [
      "This is not your modifiedCat, its my cat\n"
     ]
    }
   ],
   "source": [
    "## MATCH & REPLACE first occurence of `cat` with `modifiedCat` in Variable myText \n",
    "modified = re.sub(r'cat','modifiedCat',myText,count=1)\n",
    "print(modified)"
   ]
  },
  {
   "cell_type": "markdown",
   "id": "deb385b2",
   "metadata": {},
   "source": [
    "### ANOTHER EXAMPLE"
   ]
  },
  {
   "cell_type": "code",
   "execution_count": 56,
   "id": "b9306a67",
   "metadata": {},
   "outputs": [],
   "source": [
    "testString = \"The cow,camel & cat communicated\""
   ]
  },
  {
   "cell_type": "code",
   "execution_count": 59,
   "id": "8c85a34f",
   "metadata": {},
   "outputs": [
    {
     "name": "stdout",
     "output_type": "stream",
     "text": [
      "Original String: The cow,camel & cat communicated\n",
      "Matched String: cat\n",
      "Matched at Position: (16, 19)\n"
     ]
    }
   ],
   "source": [
    "## FIND SINGLE OCCURENCE\n",
    "matched = re.search(\"cat\",testString)\n",
    "## If there is a matching\n",
    "if matched:\n",
    "    ## Print the matched string\n",
    "    print(f\"Original String: {matched.string}\")\n",
    "    print(f\"Matched String: {matched.group()}\")\n",
    "    print(f\"Matched at Position: {matched.span()}\")\n",
    "else:\n",
    "    print(\"No Match Found\")"
   ]
  },
  {
   "cell_type": "code",
   "execution_count": 61,
   "id": "bb2396f5",
   "metadata": {},
   "outputs": [
    {
     "name": "stdout",
     "output_type": "stream",
     "text": [
      "['cat', 'cat']\n"
     ]
    }
   ],
   "source": [
    "## TO FIND ALL OCCURENCES OF THE WORD `cat`\n",
    "all_occurences = re.findall(r'cat',testString)\n",
    "\n",
    "if all_occurences:\n",
    "    print(all_occurences)\n",
    "else:\n",
    "    print(\"No Match Found\")"
   ]
  },
  {
   "cell_type": "code",
   "execution_count": 67,
   "id": "fc8d0e19",
   "metadata": {},
   "outputs": [
    {
     "name": "stdout",
     "output_type": "stream",
     "text": [
      "The cow,camel & modifiedCat communicated\n"
     ]
    }
   ],
   "source": [
    "## MATCH & REPLACE first occurence of `cat` with `modifiedCat` in Variable testString \n",
    "modified = re.sub(r'cat','modifiedCat',testString,count=1)\n",
    "print(modified)"
   ]
  },
  {
   "cell_type": "code",
   "execution_count": 69,
   "id": "203705c2",
   "metadata": {},
   "outputs": [
    {
     "name": "stdout",
     "output_type": "stream",
     "text": [
      "The cow,camel & modifiedCat communimodifiedCated\n"
     ]
    }
   ],
   "source": [
    "## MATCH & REPLACE all occurences of the `cat` with `modifiedCat` in Variable testString \n",
    "modified = re.sub(r'cat','modifiedCat',testString)\n",
    "print(modified)"
   ]
  },
  {
   "cell_type": "code",
   "execution_count": 70,
   "id": "84b40d83",
   "metadata": {},
   "outputs": [
    {
     "name": "stdout",
     "output_type": "stream",
     "text": [
      "['The cow,camel & ', ' communi', 'ed']\n"
     ]
    }
   ],
   "source": [
    "## SPLIT By `cat` will split the string where `cat` is found\n",
    "## maxsplit=2 means to split string when two occurences are found, leave the third matching\n",
    "splitted = re.split(r'cat',testString,maxsplit=2,flags=0)\n",
    "\n",
    "print(splitted)"
   ]
  }
 ],
 "metadata": {
  "kernelspec": {
   "display_name": "Python 3",
   "language": "python",
   "name": "python3"
  },
  "language_info": {
   "codemirror_mode": {
    "name": "ipython",
    "version": 3
   },
   "file_extension": ".py",
   "mimetype": "text/x-python",
   "name": "python",
   "nbconvert_exporter": "python",
   "pygments_lexer": "ipython3",
   "version": "3.8.8"
  }
 },
 "nbformat": 4,
 "nbformat_minor": 5
}
